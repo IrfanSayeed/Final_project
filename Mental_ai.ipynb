{
 "cells": [
  {
   "cell_type": "code",
   "execution_count": 1,
   "metadata": {},
   "outputs": [],
   "source": [
    "#imports for the ML\n",
    "import warnings\n",
    "warnings.filterwarnings('ignore')\n",
    "\n",
    "import numpy as np\n",
    "import pandas as pd\n",
    "from pathlib import Path\n",
    "from collections import Counter"
   ]
  },
  {
   "cell_type": "code",
   "execution_count": 3,
   "metadata": {},
   "outputs": [],
   "source": [
    "from sklearn.metrics import balanced_accuracy_score\n",
    "from sklearn.metrics import confusion_matrix\n",
    "from imblearn.metrics import classification_report_imbalanced\n",
    "from sklearn.model_selection import train_test_split\n",
    "from sklearn.ensemble import RandomForestClassifier"
   ]
  },
  {
   "cell_type": "code",
   "execution_count": null,
   "metadata": {},
   "outputs": [],

   "source": []
   

  }
 ],
 "metadata": {
  "interpreter": {
   "hash": "d1fd11453827e525d8e7c02b7bb2104b71027dacea2cab329ac5186950baf290"
  },
  "kernelspec": {

   "display_name": "Python 3.7.11 64-bit ('mlenv': conda)",

 

   "language": "python",
   "name": "mlenv"
  },
  "language_info": {
   "name": "python",

   "version": "3.7.11"
  },
  "orig_nbformat": 4

  

 },
 "nbformat": 4,
 "nbformat_minor": 2
}
